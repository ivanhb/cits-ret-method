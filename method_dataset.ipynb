{
 "cells": [
  {
   "cell_type": "code",
   "execution_count": 4,
   "metadata": {},
   "outputs": [],
   "source": [
    "import csv\n",
    "import re\n",
    "import requests\n",
    "import os\n",
    "from datetime import datetime\n",
    "import pandas as pd \n",
    "import numpy as np\n",
    "from collections import defaultdict\n",
    "import pprint"
   ]
  },
  {
   "cell_type": "markdown",
   "metadata": {},
   "source": [
    "# A methodology for the generation and annotation of an in-text citations collection based on entities citing a retracted document: the Wakefield et.al. retraction case\n",
    "\n",
    "The construction of the in-text reference dataset is based on four phases, each of the following phases will enrich the final dataset with new attributes. The following table shows each phase, input, and generated attributes to embed in the dataset.  \n",
    "\n",
    "![](img/tab.png)"
   ]
  },
  {
   "cell_type": "code",
   "execution_count": 5,
   "metadata": {},
   "outputs": [],
   "source": [
    "## Usefull functions\n",
    "def write_list(l,file_path, header= True, initial_pos= 0):\n",
    "    f = open(file_path,\"w+\")\n",
    "    \n",
    "    if len(l) > 0:\n",
    "        #header\n",
    "        if header:\n",
    "            str_header = ''\n",
    "            for k_header in l[0].keys():\n",
    "                str_header = str_header + str(k_header) + \",\"\n",
    "            f.write(str_header[:-1]+\"\\n\")\n",
    "\n",
    "        #content\n",
    "        for l_index in range(initial_pos,len(l)):\n",
    "            str_row = ''\n",
    "            for k_att in l[l_index]:\n",
    "                str_row = str_row + '\"'+str(l[l_index][k_att]) +'\"'+','\n",
    "            f.write(str_row[:-1]+\"\\n\")\n",
    "    else:\n",
    "        f.write(\"\")\n",
    "        \n",
    "def merge_two_dicts(x, y):\n",
    "    z = x.copy()\n",
    "    z.update(y)\n",
    "    return z\n",
    "\n",
    "def df_to_dict_list(a_df, extra_keys = {}, fields = []):\n",
    "    l = []\n",
    "    for index, row in a_df.iterrows():\n",
    "        \n",
    "        dict_elem = {}\n",
    "        for k_field in fields:\n",
    "            if k_field in row:\n",
    "                dict_elem[k_field] = row[k_field]\n",
    "                \n",
    "        l.append(merge_two_dicts(dict_elem, extra_keys))\n",
    "    \n",
    "    #if len(l) == 0:\n",
    "    #    header = {}\n",
    "    #    for k_field in fields:\n",
    "    #        header[k_field] = \"\"\n",
    "    #    l.append(merge_two_dicts(header, extra_keys))\n",
    "        \n",
    "    return l"
   ]
  },
  {
   "cell_type": "code",
   "execution_count": 7,
   "metadata": {},
   "outputs": [],
   "source": [
    "# CONSTANTS\n",
    "CITS = \"data/cits.csv\"\n",
    "STEP_A = \"data/step_a.csv\"\n",
    "STEP_B = \"data/step_b.csv\"\n",
    "STEP_B_1 = \"data/step_b_1.csv\"\n",
    "STEP_B_2 = \"data/step_b_2.csv\"\n",
    "STEP_C = \"data/step_c.csv\"\n",
    "STEP_D = \"data/step_d.csv\"\n",
    "STEP_E = \"data/step_e.csv\""
   ]
  },
  {
   "cell_type": "markdown",
   "metadata": {},
   "source": [
    "## A) Identifying and retrieving the resources \n",
    "#### Input: Wakefield et.al. retracted article\n",
    "* Use the DOI value of the retracted article: 10.1016/S0140-6736(97)11096-0 \n",
    "\n",
    "#### Output: Creates a dataset with the following attributes (A.1) DOI; (A.2) year of publication; (A.3) title; (A.4) ISSN/ISBN; (A.5) whether is retracted\n",
    "* Query the COCI dataset ([https://opencitations.net/index/coci](https://opencitations.net/index/coci)) to get (A.1), (A.2), (A.3), (A.4). At the time of this elaboration we have used the last version of COCI available: November 2018 Dump (46,534,705 bibliographic resources, 445,826,118 citation links).  \n",
    "**Note:** all the APIs of COCI used refered to the same version.\n",
    "* Query RetractionWatch database ([http://retractiondatabase.org/](http://retractiondatabase.org/))"
   ]
  },
  {
   "cell_type": "code",
   "execution_count": 6,
   "metadata": {},
   "outputs": [],
   "source": [
    "RET_ART_DOI = \"10.1016/S0140-6736(97)11096-0\"\n",
    "COCI_API = \"https://opencitations.net/index/coci/api/v1/\"\n",
    "\n",
    "def call_api_coci(operation, vals, fields, params=\"\"):\n",
    "    \n",
    "    if len(vals) == 0:\n",
    "        return {}\n",
    "\n",
    "    val_key = vals.pop(0)\n",
    "    item = {}\n",
    "    item[val_key] = {}  \n",
    "    r = requests.get(COCI_API + str(operation) + \"/\" + str(val_key) + str(params))\n",
    "    if len(r.json()) > 0:\n",
    "        if fields == \"*\":\n",
    "            item[val_key] = r.json()[0]\n",
    "        else:\n",
    "            for f in fields:\n",
    "                item[val_key][f] = None\n",
    "                if f in r.json()[0]:\n",
    "                    item[val_key][f] = r.json()[0][f]\n",
    "    \n",
    "    return merge_two_dicts(item, call_api_coci(operation, vals, fields, params))\n",
    "\n",
    "# All the citations in COCI\n",
    "ret_meta = call_api_coci(\"metadata\", [RET_ART_DOI],[\"citation\"],'?json=array(\"; \",citation,doi)')\n",
    "coci_cits = ret_meta[RET_ART_DOI][\"citation\"]\n",
    "\n",
    "# ---- <TEST> ----- COMMENT  \n",
    "coci_cits = coci_cits[0:10]\n",
    "# ---- </TEST> ----- COMMENT  \n",
    "\n",
    "# Get the metadata of citing document\n",
    "coci_cits_meta = call_api_coci(\"metadata\", coci_cits, \"*\")\n",
    "\n",
    "#write the partial results of this step\n",
    "step_a_data = []\n",
    "for c in coci_cits_meta:\n",
    "    step_a_data.append({\n",
    "        \"doi\": coci_cits_meta[c][\"doi\"],\n",
    "        \"title\": coci_cits_meta[c][\"title\"],\n",
    "        \"year\": coci_cits_meta[c][\"year\"],\n",
    "        \"source_id\": coci_cits_meta[c][\"source_id\"],\n",
    "        \"source_title\": coci_cits_meta[c][\"source_title\"]\n",
    "    })\n",
    "\n",
    "write_list(step_a_data, STEP_A, header= True)\n",
    "# Verify and add \"retracted\" field to each citing document using/querying RetractionWatch database (http://retractiondatabase.org/) as source"
   ]
  },
  {
   "cell_type": "markdown",
   "metadata": {},
   "source": [
    "#### Prepare data for next steps"
   ]
  },
  {
   "cell_type": "code",
   "execution_count": 161,
   "metadata": {},
   "outputs": [],
   "source": [
    "# Prepare pandas dataframe with the fields needed\n",
    "coci_cits_df = pd.DataFrame.from_dict(coci_cits_meta).transpose()\n",
    "coci_cits_df = coci_cits_df[[\"doi\",\"title\",\"year\",\"source_id\",\"source_title\"]]"
   ]
  },
  {
   "cell_type": "markdown",
   "metadata": {},
   "source": [
    "## B) Classifying into subjects and areas of study\n",
    "#### Input: All documents ISSN/ISBN values on the dataset\n",
    "#### Output: Adds these attributes: (B.1) source title, (B.2) subject; (B.3) area"
   ]
  },
  {
   "cell_type": "code",
   "execution_count": 162,
   "metadata": {},
   "outputs": [],
   "source": [
    "# ISSNs: citations having an issn value in the source id\n",
    "coci_cits_df_issn = coci_cits_df[coci_cits_df[\"source_id\"].str.contains('^issn')]\n",
    "coci_cits_df_issn = coci_cits_df_issn[[\"source_id\",\"source_title\"]].drop_duplicates(subset =\"source_id\", keep = 'first')\n",
    "step_b_1_data = df_to_dict_list(coci_cits_df_issn,{\"scimago_subject\":\"TODO\",\"scimago_area\":\"TODO\"},[\"source_id\",\"source_title\"])\n",
    "write_list(step_b_1_data, STEP_B_1, header= True)\n",
    "# Verify and add the \"scimago_subject\", and the \"scimago_area\" fields for each ISSN value using/querying the SCIMAGO service (https://www.scimagojr.com/)\n",
    "\n",
    "# ISBNs: citations having an isbn value in the source id\n",
    "coci_cits_df_isbn = coci_cits_df[coci_cits_df[\"source_id\"].str.contains('^isbn')]\n",
    "coci_cits_df_isbn = coci_cits_df_isbn[[\"source_id\",\"source_title\"]].drop_duplicates(subset =\"source_id\", keep = 'first')\n",
    "step_b_2_data = df_to_dict_list(coci_cits_df_isbn,{\"scimago_subject\":\"TODO\",\"scimago_area\":\"TODO\"},[\"source_id\",\"source_title\"])\n",
    "write_list(step_b_2_data, STEP_B_2, header= True)\n",
    "# Verify and add the LCC code of each ISBN value using/querying the ISBNDB service (https://isbndb.com/)\n",
    "# Consider only the first alphabetic characters of the LCC code and map them to a SCIMAGO subject and area \n",
    "# If some LCC Alphabetic characters don't have a corresponding SCIMAGO match:\n",
    "#   -> Take in consideration the entire LCC code and find a suitable SCIMAGO subject and area"
   ]
  },
  {
   "cell_type": "code",
   "execution_count": 163,
   "metadata": {},
   "outputs": [],
   "source": [
    "# ***ONLY ONES THE PREVIOUS STEP IS DONE\n",
    "\n",
    "# Combine all the results in one csv\n",
    "if len(step_b_2_data) == 0:\n",
    "    coci_cits_df_sources = pd.read_csv(STEP_B_1)\n",
    "else:\n",
    "    coci_cits_df_sources = pd.concat([pd.read_csv(STEP_B_1), pd.read_csv(STEP_B_2)],sort=False)\n",
    "\n",
    "step_b_data = df_to_dict_list(coci_cits_df_sources,{},[\"source_id\",\"source_title\",\"scimago_subject\",\"scimago_area\"])\n",
    "write_list(step_b_data, STEP_B, header= True)"
   ]
  },
  {
   "cell_type": "markdown",
   "metadata": {},
   "source": [
    "## C) Extracting textual values\n",
    "\n",
    "#### Input: All documents DOI values on the dataset\n",
    "#### Output: Adds these attributes: (C.1) abstract; (C.2) in-text reference section; (C.3) in-text reference context"
   ]
  },
  {
   "cell_type": "code",
   "execution_count": 164,
   "metadata": {},
   "outputs": [],
   "source": [
    "step_c_data = df_to_dict_list(coci_cits_df,{\"abstract\":\"TODO\", \"section\":\"TODO\", \"context\":\"TODO\"},[\"doi\"])\n",
    "write_list(step_c_data, STEP_C, header= True)\n",
    "# Verify and add the \"abstract\", \"in-text reference section\", and \"in-text reference context\""
   ]
  },
  {
   "cell_type": "markdown",
   "metadata": {},
   "source": [
    "## D) Annotating citing entity characteristics\n",
    "\n",
    "#### Input: All the in-text context values\n",
    "#### Output: Adds these attributes: (D.1) whether it mentions the retraction"
   ]
  },
  {
   "cell_type": "code",
   "execution_count": 165,
   "metadata": {},
   "outputs": [],
   "source": [
    "step_d_data = df_to_dict_list(pd.read_csv(STEP_C),{\"mention_retraction\":\"TODO\"},[\"doi\",\"context\"])\n",
    "write_list(step_d_data, STEP_D, header= True)"
   ]
  },
  {
   "cell_type": "markdown",
   "metadata": {},
   "source": [
    "## E) Annotating in-text references characteristics\n",
    "\n",
    "#### Input: All the in-text context values\n",
    "#### Output: Adds these attributes: (E.1) citation intent, (E.2) sentiment"
   ]
  },
  {
   "cell_type": "code",
   "execution_count": 166,
   "metadata": {},
   "outputs": [],
   "source": [
    "step_e_data = df_to_dict_list(pd.read_csv(STEP_C),{\"intent\":\"TODO\",\"sentiment\":\"TODO\"},[\"doi\",\"context\"])\n",
    "write_list(step_e_data, STEP_E, header= True)"
   ]
  },
  {
   "cell_type": "markdown",
   "metadata": {},
   "source": [
    "## MERGE ALL RESULTS\n",
    "\n",
    "#### Input: All the results obtained \n",
    "#### Output: One dataset which includes all the results"
   ]
  },
  {
   "cell_type": "code",
   "execution_count": null,
   "metadata": {},
   "outputs": [],
   "source": [
    "merge_data = pd.merge(\n",
    "    pd.merge(\n",
    "        pd.merge(\n",
    "            pd.merge(\n",
    "                pd.read_csv(STEP_C), \n",
    "                pd.DataFrame(pd.read_csv(STEP_D)[[\"doi\",\"mention_retraction\"]]), \n",
    "                on='doi'),\n",
    "            pd.read_csv(STEP_E)[[\"doi\",\"intent\",\"sentiment\"]],\n",
    "            on='doi'),\n",
    "            pd.read_csv(STEP_A),\n",
    "        on='doi'),\n",
    "    pd.read_csv(STEP_B)[[\"source_id\",\"scimago_subject\",\"scimago_area\"]],\n",
    "    on='source_id')"
   ]
  },
  {
   "cell_type": "code",
   "execution_count": 26,
   "metadata": {},
   "outputs": [],
   "source": [
    "write_list(\n",
    "    df_to_dict_list(merge_data,{},[\"doi\",\"year\",\"title\",\"abstract\",\"context\",\"section\",\"mention_retraction\",\"intent\",\"sentiment\",\"source_id\",\"source_title\",\"scimago_subject\",\"scimago_area\"]),\n",
    "    CITS, \n",
    "    header= True)"
   ]
  }
 ],
 "metadata": {
  "kernelspec": {
   "display_name": "Python 3",
   "language": "python",
   "name": "python3"
  },
  "language_info": {
   "codemirror_mode": {
    "name": "ipython",
    "version": 3
   },
   "file_extension": ".py",
   "mimetype": "text/x-python",
   "name": "python",
   "nbconvert_exporter": "python",
   "pygments_lexer": "ipython3",
   "version": "3.7.3"
  }
 },
 "nbformat": 4,
 "nbformat_minor": 2
}
