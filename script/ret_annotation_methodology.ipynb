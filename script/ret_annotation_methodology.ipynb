{
 "cells": [
  {
   "cell_type": "markdown",
   "metadata": {},
   "source": [
    "# A methodology for annotating the in-text citations toward a retracted article\n",
    "Starting from a seed retracted article, we present a step by step methodology for collecting and annotating the citing entities in-text citations. Two main services have been used during this process: (a) The APIs of COCI, the OpenCitations Index of Crossref open DOI-to-DOI references (http://opencitations.net/index/coci), and (b) the RetractionWatch database, a collection of retracted articles over the academic world (http://retractiondatabase.org/).\n",
    "This methodology is divided into 5 steps: (1) identifying and retrieving the resources, (2) annotating the citing entities characteristics, (3) classifying the citing entities into subjects of study, (4) extracting textual values from the citing entities, and (5) annotating the in-text citations characteristics.\n",
    "\n",
    "\n",
    "|Phase                                                    |Description                                                                                                                                                         |Input                                    |Output (new dataset attributes)                                                                              |\n",
    "|---------------------------------------------------------|--------------------------------------------------------------------------------------------------------------------------------------------------------------------|-----------------------------------------|-------------------------------------------------------------------------------------------------------------|\n",
    "|1) Identifying and retrieving the resources              |Identifying the list of entities citing the retracted article and annotating their main attributes                                                                  |Retracted article DOI                    |1.1) DOI 1.2) year of publication 1.3) title  1.4) source id (ISSN/ISBN)  1.5) source title                  |\n",
    "|2) Annotating the citing entities characteristics        |Annotating whether the citing entities are/aren’t retracted                                                                                                         |Citing entities' DOIs                     |2.1) is retracted?                §                                                                           |\n",
    "|3) Classifying the citing entities into subjects of study|Classifying the citing entities macro subjects and specific areas of study following the SCImago classification                                                     |Citing entities' ISSN/ISBN values         |3.1) area  3.2) category                                                                                      |\n",
    "|4) Extracting textual values from the citing entities    |Extracting the citing entities abstracts and the in-text citation/s pointer, section of occurrence, and context                                                     |Citing entities' DOIs                     |4.1) abstract 4.2) in-text citation/s section 4.3) in-text citation/s context 4.4) in-text citation/s pointer|\n",
    "|5) annotating the in-text citations' characteristics      |Annotating for each captured in-text citation its intent and sentiment, and specifying whether at least one of the in-text citation/s mentions the retraction notice|Citing entities in-text citations context|5.1) citation/s intent 5.2) sentiment/s 5.3) retraction mentioned?                                           |\n",
    "\n"
   ]
  },
  {
   "cell_type": "code",
   "execution_count": 2,
   "metadata": {},
   "outputs": [],
   "source": [
    "#Imports\n",
    "import csv\n",
    "import re\n",
    "import requests\n",
    "import os\n",
    "from datetime import datetime\n",
    "import pandas as pd \n",
    "import numpy as np\n",
    "from collections import defaultdict\n",
    "import pprint\n",
    "import util\n",
    "\n",
    "OUT_PATH = \"data_test/\"\n",
    "CITS_DATASET = OUT_PATH + \"cits_dataset.csv\""
   ]
  },
  {
   "cell_type": "markdown",
   "metadata": {},
   "source": [
    "---\n",
    "## Step-1) Identifying and retrieving the resources\n",
    "#### Input: the DOI value of a retracted article"
   ]
  },
  {
   "cell_type": "code",
   "execution_count": 4,
   "metadata": {},
   "outputs": [],
   "source": [
    "RET_ART_DOI = \"10.1016/S0140-6736(97)11096-0\""
   ]
  },
  {
   "cell_type": "markdown",
   "metadata": {},
   "source": [
    "#### Output: Creates a dataset having the following variables/columns: \"doi\",\"title\",\"year\",\"source_id\", and \"source_title\" "
   ]
  },
  {
   "cell_type": "markdown",
   "metadata": {},
   "source": [
    "### Step-1-1) \n",
    "No script needed"
   ]
  },
  {
   "cell_type": "markdown",
   "metadata": {},
   "source": [
    "### Step-1-2)"
   ]
  },
  {
   "cell_type": "code",
   "execution_count": null,
   "metadata": {},
   "outputs": [],
   "source": [
    "def call_api_coci(operation, vals, fields, params=\"\"):\n",
    "    COCI_API = \"https://opencitations.net/index/coci/api/v1/\"\n",
    "    if len(vals) == 0:\n",
    "        return {}\n",
    "\n",
    "    val_key = vals.pop(0)\n",
    "    item = {}\n",
    "    item[val_key] = {}  \n",
    "    r = requests.get(COCI_API + str(operation) + \"/\" + str(val_key) + str(params))\n",
    "    if len(r.json()) > 0:\n",
    "        if fields == \"*\":\n",
    "            item[val_key] = r.json()[0]\n",
    "        else:\n",
    "            for f in fields:\n",
    "                item[val_key][f] = None\n",
    "                if f in r.json()[0]:\n",
    "                    item[val_key][f] = r.json()[0][f]\n",
    "    \n",
    "    return util.merge_two_dicts(item, call_api_coci(operation, vals, fields, params))\n",
    "\n",
    "# All the citations in COCI\n",
    "ret_meta = call_api_coci(\"metadata\", [RET_ART_DOI],[\"citation\"],'?json=array(\"; \",citation,doi)')\n",
    "coci_cits = ret_meta[RET_ART_DOI][\"citation\"]\n",
    "# ---- <TEST> ----- COMMENT  \n",
    "# coci_cits = coci_cits[0:10]\n",
    "# ---- </TEST> ----- COMMENT  \n",
    "\n",
    "# Get the metadata of citing document\n",
    "coci_cits_meta = call_api_coci(\"metadata\", coci_cits, \"*\")\n",
    "\n",
    "#write the partial results of this step\n",
    "step_a_data = []\n",
    "for c in coci_cits_meta:\n",
    "    step_a_data.append({\n",
    "        \"doi\": coci_cits_meta[c][\"doi\"],\n",
    "        \"title\": coci_cits_meta[c][\"title\"],\n",
    "        \"year\": coci_cits_meta[c][\"year\"],\n",
    "        \"source_id\": coci_cits_meta[c][\"source_id\"],\n",
    "        \"source_title\": coci_cits_meta[c][\"source_title\"]\n",
    "    })\n",
    "\n",
    "util.write_list(step_a_data, CITS_DATASET, header= True)\n",
    "# Verify and add \"retracted\" field to each citing document using/querying RetractionWatch database (http://retractiondatabase.org/) as source"
   ]
  },
  {
   "cell_type": "markdown",
   "metadata": {},
   "source": [
    "---\n",
    "## Step-2) Annotating the citing entities characteristics\n",
    "#### Input: Citing entities DOIs\t"
   ]
  },
  {
   "cell_type": "code",
   "execution_count": 7,
   "metadata": {},
   "outputs": [],
   "source": [
    "CITS_DATASET = \"example_data/cits_dataset.csv\""
   ]
  },
  {
   "cell_type": "markdown",
   "metadata": {},
   "source": [
    "#### Output: extends the CitsDataset with the new variable \"is_retracted\""
   ]
  },
  {
   "cell_type": "markdown",
   "metadata": {},
   "source": [
    "### Step-2-1) "
   ]
  },
  {
   "cell_type": "code",
   "execution_count": 12,
   "metadata": {},
   "outputs": [],
   "source": [
    "cits_df = pd.read_csv(CITS_DATASET)\n",
    "step_2_1_data = util.df_to_dict_list(cits_df,{\"is_retracted\":\"todo\"},[\"doi\",\"title\",\"year\",\"source_id\",\"source_title\"])\n",
    "util.write_list(step_2_1_data, CITS_DATASET, header= True)"
   ]
  },
  {
   "cell_type": "markdown",
   "metadata": {},
   "source": [
    "### Step-2-2) \n",
    "No script needed"
   ]
  },
  {
   "cell_type": "markdown",
   "metadata": {},
   "source": [
    "---\n",
    "## Step-3) Classifying the citing entities into subjects of study\n",
    "#### Input: Citing entities ISSN/ISBN values\n",
    "#### Output: extends the CitsDataset with the new variables: \"subject\", and \"area\""
   ]
  },
  {
   "cell_type": "markdown",
   "metadata": {},
   "source": [
    "### Step-3-1) "
   ]
  },
  {
   "cell_type": "code",
   "execution_count": 67,
   "metadata": {},
   "outputs": [],
   "source": [
    "cits_df = pd.read_csv(CITS_DATASET)\n",
    "ISSN_DATASET = CITS_DATASET.replace(\"/cits_dataset.csv\",\"\")+\"/issn_dataset.csv\"\n",
    "ISBN_DATASET = CITS_DATASET.replace(\"/cits_dataset.csv\",\"\")+\"/isbn_dataset.csv\"\n",
    "\n",
    "# ISSNs: citations having an issn value in the source id\n",
    "cits_df_issn = cits_df[cits_df[\"source_id\"].str.contains('^issn')]\n",
    "cits_df_issn = cits_df_issn[[\"source_id\",\"source_title\"]].drop_duplicates(subset =\"source_id\", keep = 'first')\n",
    "step_3_1_data = util.df_to_dict_list(cits_df_issn,{\"scimago_area\":\"todo\",\"scimago_category\":\"todo\"},[\"source_id\",\"source_title\"])\n",
    "util.write_list(step_3_1_data, ISSN_DATASET, header= True)\n",
    "\n",
    "# ISBNs: citations having an isbn value in the source id\n",
    "cits_df_isbn = cits_df[cits_df[\"source_id\"].str.contains('^isbn')]\n",
    "cits_df_isbn = cits_df_isbn[[\"source_id\",\"source_title\"]].drop_duplicates(subset =\"source_id\", keep = 'first')\n",
    "step_3_1_data = util.df_to_dict_list(cits_df_isbn,{\"lcc\":\"todo\",\"scimago_area\":\"todo\",\"scimago_category\":\"todo\"},[\"source_id\",\"source_title\"])\n",
    "util.write_list(step_3_1_data, ISBN_DATASET, header= True)"
   ]
  },
  {
   "cell_type": "markdown",
   "metadata": {},
   "source": [
    "### Step-3-2) \n",
    "No script needed"
   ]
  },
  {
   "cell_type": "markdown",
   "metadata": {},
   "source": [
    "### Step-3-3) \n",
    "No script needed"
   ]
  },
  {
   "cell_type": "markdown",
   "metadata": {},
   "source": [
    "### Step-3-4) "
   ]
  },
  {
   "cell_type": "code",
   "execution_count": 70,
   "metadata": {},
   "outputs": [],
   "source": [
    "ISBN_DATASET = CITS_DATASET.replace(\"/cits_dataset.csv\",\"\")+\"/isbn_dataset.csv\"\n",
    "lcc_lookup_df = pd.read_csv(\"lcc_lookup.csv\")\n",
    "scimago_lookup_df = pd.read_csv(\"scimago_lookup.csv\")\n",
    "isbn_df = pd.read_csv(ISBN_DATASET)\n",
    "\n",
    "step_3_4_data = []\n",
    "for index, row in isbn_df.iterrows():\n",
    "    \n",
    "    step_3_4_data.append(row.to_dict())\n",
    "    \n",
    "    #1. Consider only the alphabetic part of the LCC code\n",
    "    alphabetic_code = re.findall('[a-zA-Z]+', row['lcc'])\n",
    "    if len(alphabetic_code) == 0:\n",
    "        continue\n",
    "    alphabetic_code = alphabetic_code[0].upper()   \n",
    "    query_df = lcc_lookup_df.loc[lcc_lookup_df['lcc_code'] == alphabetic_code]\n",
    "    lcc_subject = None\n",
    "    if len(query_df) > 0:\n",
    "        lcc_subject = query_df[\"lcc_subject\"].values[0]\n",
    "    else:\n",
    "        continue\n",
    "    \n",
    "    area = \"todo_manual\"\n",
    "    category = \"todo_manual\"\n",
    "    #2. Checks whether the value of the LCC subject is also a Scimago subject area \n",
    "    query_df = scimago_lookup_df.loc[scimago_lookup_df['area'].str.lower() == lcc_subject.lower()]\n",
    "    if len(query_df) > 0:\n",
    "        area = query_df[\"area\"].values[0]\n",
    "        category = area + \" (miscellaneous)\"\n",
    "        \n",
    "    #3. Checks whether the value of the LCC subject is also a Scimago subject category \n",
    "    else:\n",
    "        query_df = scimago_lookup_df.loc[scimago_lookup_df['category'].str.lower() == lcc_subject.lower()]\n",
    "        if len(query_df) > 0:\n",
    "            area = query_df[\"area\"].values[0]\n",
    "            category = query_df[\"category\"].values[0]\n",
    "    \n",
    "    step_3_4_data[0][\"scimago_area\"] = area\n",
    "    step_3_4_data[0][\"scimago_category\"] = category\n",
    "    \n",
    "util.write_list(step_3_4_data, ISBN_DATASET, header= True)"
   ]
  },
  {
   "cell_type": "markdown",
   "metadata": {},
   "source": [
    "### Step-3-5) "
   ]
  },
  {
   "cell_type": "code",
   "execution_count": 90,
   "metadata": {},
   "outputs": [],
   "source": [
    "ISSN_DATASET = CITS_DATASET.replace(\"/cits_dataset.csv\",\"\")+\"/issn_dataset.csv\"\n",
    "ISBN_DATASET = CITS_DATASET.replace(\"/cits_dataset.csv\",\"\")+\"/isbn_dataset.csv\"\n",
    "\n",
    "cits_df = pd.read_csv(CITS_DATASET)\n",
    "\n",
    "issn_df = pd.read_csv(ISSN_DATASET)\n",
    "for index, row in issn_df.iterrows():\n",
    "    query_df = cits_df.loc[cits_df.source_id.str.lower() == row[\"source_id\"].lower()]\n",
    "    if(len(query_df) > 0):\n",
    "        cits_df.loc[cits_df.source_id.str.lower() == row[\"source_id\"].lower(), 'area'] = row[\"scimago_area\"]\n",
    "        cits_df.loc[cits_df.source_id.str.lower() == row[\"source_id\"].lower(), 'category'] = row[\"scimago_category\"]\n",
    "\n",
    "isbn_df = pd.read_csv(ISBN_DATASET)\n",
    "for index, row in isbn_df.iterrows():\n",
    "    query_df = cits_df.loc[cits_df.source_id.str.lower() == row[\"source_id\"].lower()]\n",
    "    if(len(query_df) > 0):\n",
    "        cits_df.loc[cits_df.source_id.str.lower() == row[\"source_id\"].lower(), 'area'] = row[\"scimago_area\"]\n",
    "        cits_df.loc[cits_df.source_id.str.lower() == row[\"source_id\"].lower(), 'category'] = row[\"scimago_category\"]\n",
    "    \n",
    "    \n",
    "step_3_5_data = cits_df.to_dict(\"records\")\n",
    "util.write_list(step_3_5_data, CITS_DATASET, header= True)  "
   ]
  },
  {
   "cell_type": "markdown",
   "metadata": {},
   "source": [
    "---\n",
    "## Step-4) Extracting textual values from the citing entities\n",
    "#### Input: the citing entities' DOIs\n",
    "#### Output: extends the CitsDataset with the new variables: \"abstract\", \"intext_citation.section\", \"intext_citation.context\" and \"intext_citation.pointer\""
   ]
  },
  {
   "cell_type": "markdown",
   "metadata": {},
   "source": [
    "### Step-4-1) "
   ]
  },
  {
   "cell_type": "code",
   "execution_count": null,
   "metadata": {},
   "outputs": [],
   "source": [
    "cits_df = pd.read_csv(CITS_DATASET)\n",
    "step_4_1_data = util.df_to_dict_list(cits_df,{\"abstract\":\"todo\",\"intext_citation.section\":\"todo\",\"intext_citation.context\":\"todo\",\"intext_citation.pointer\":\"todo\"},[\"doi\",\"title\",\"year\",\"source_id\",\"source_title\",\"is_retracted\",\"area\",\"category\"])\n",
    "util.write_list(step_4_1_data, CITS_DATASET, header= True)"
   ]
  },
  {
   "cell_type": "markdown",
   "metadata": {},
   "source": [
    "### Step-4-2) \n",
    "No script needed"
   ]
  },
  {
   "cell_type": "markdown",
   "metadata": {},
   "source": [
    "---\n",
    "## Step-5) Annotating the in-text citations characteristics\n",
    "#### Input: the citing entities' in-text citations context\n",
    "#### Output: extends the CitsDataset with the new variables: \"intext_citation.intent\", \"intext_citation.sentiment\", and \"intext_citation.ret_mention\""
   ]
  },
  {
   "cell_type": "markdown",
   "metadata": {},
   "source": [
    "### Step-5-1)"
   ]
  },
  {
   "cell_type": "code",
   "execution_count": null,
   "metadata": {},
   "outputs": [],
   "source": [
    "cits_df = pd.read_csv(CITS_DATASET)\n",
    "step_5_1_data = util.df_to_dict_list(\n",
    "    cits_df,\n",
    "    {\"intext_citation.intent\":\"todo\",\"intext_citation.sentiment\":\"todo\",\"intext_citation.ret_mention\":\"todo\"},\n",
    "    [\"doi\",\"title\",\"year\",\"source_id\",\"source_title\",\"is_retracted\",\"area\",\"category\",\"abstract\",\"intext_citation.section\",\"intext_citation.context\",\"intext_citation.pointer\"])\n",
    "util.write_list(step_5_1_data, CITS_DATASET, header= True)"
   ]
  },
  {
   "cell_type": "markdown",
   "metadata": {},
   "source": [
    "### Step-5-2)\n",
    "No script needed"
   ]
  }
 ],
 "metadata": {
  "kernelspec": {
   "display_name": "Python 3",
   "language": "python",
   "name": "python3"
  },
  "language_info": {
   "codemirror_mode": {
    "name": "ipython",
    "version": 3
   },
   "file_extension": ".py",
   "mimetype": "text/x-python",
   "name": "python",
   "nbconvert_exporter": "python",
   "pygments_lexer": "ipython3",
   "version": "3.7.3"
  }
 },
 "nbformat": 4,
 "nbformat_minor": 2
}
