{
 "cells": [
  {
   "cell_type": "code",
   "execution_count": null,
   "metadata": {},
   "outputs": [],
   "source": [
    "## Usefull functions\n",
    "def write_list(l,file_path, header= True, initial_pos= 0):\n",
    "    f = open(file_path,\"w+\")\n",
    "    \n",
    "    if len(l) > 0:\n",
    "        #header\n",
    "        if header:\n",
    "            str_header = ''\n",
    "            for k_header in l[0].keys():\n",
    "                str_header = str_header + str(k_header) + \",\"\n",
    "            f.write(str_header[:-1]+\"\\n\")\n",
    "\n",
    "        #content\n",
    "        for l_index in range(initial_pos,len(l)):\n",
    "            str_row = ''\n",
    "            for k_att in l[l_index]:\n",
    "                str_row = str_row + '\"'+str(l[l_index][k_att]) +'\"'+','\n",
    "            f.write(str_row[:-1]+\"\\n\")\n",
    "    else:\n",
    "        f.write(\"\")\n",
    "        \n",
    "def merge_two_dicts(x, y):\n",
    "    z = x.copy()\n",
    "    z.update(y)\n",
    "    return z\n",
    "\n",
    "def df_to_dict_list(a_df, extra_keys = {}, fields = []):\n",
    "    l = []\n",
    "    for index, row in a_df.iterrows():\n",
    "        \n",
    "        dict_elem = {}\n",
    "        for k_field in fields:\n",
    "            if k_field in row:\n",
    "                dict_elem[k_field] = row[k_field]\n",
    "                \n",
    "        l.append(merge_two_dicts(dict_elem, extra_keys))\n",
    "    \n",
    "    #if len(l) == 0:\n",
    "    #    header = {}\n",
    "    #    for k_field in fields:\n",
    "    #        header[k_field] = \"\"\n",
    "    #    l.append(merge_two_dicts(header, extra_keys))\n",
    "        \n",
    "    return l"
   ]
  },
  {
   "cell_type": "code",
   "execution_count": 2,
   "metadata": {},
   "outputs": [
    {
     "data": {
      "text/plain": [
       "[]"
      ]
     },
     "execution_count": 2,
     "metadata": {},
     "output_type": "execute_result"
    }
   ],
   "source": [
    "x = []\n",
    "x[1:]"
   ]
  },
  {
   "cell_type": "code",
   "execution_count": null,
   "metadata": {},
   "outputs": [],
   "source": []
  }
 ],
 "metadata": {
  "kernelspec": {
   "display_name": "Python 3",
   "language": "python",
   "name": "python3"
  },
  "language_info": {
   "codemirror_mode": {
    "name": "ipython",
    "version": 3
   },
   "file_extension": ".py",
   "mimetype": "text/x-python",
   "name": "python",
   "nbconvert_exporter": "python",
   "pygments_lexer": "ipython3",
   "version": "3.7.3"
  }
 },
 "nbformat": 4,
 "nbformat_minor": 2
}
